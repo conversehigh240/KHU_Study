{
 "cells": [
  {
   "cell_type": "code",
   "execution_count": 51,
   "id": "c3f91b98",
   "metadata": {},
   "outputs": [
    {
     "name": "stdout",
     "output_type": "stream",
     "text": [
      "7.223801702442598e-07\n"
     ]
    }
   ],
   "source": [
    "import math\n",
    "\n",
    "y = 60\n",
    "n = 3800000\n",
    "a = y*(1/n)*(1/math.log(n,2))\n",
    "\n",
    "print(a)"
   ]
  },
  {
   "cell_type": "code",
   "execution_count": 2,
   "id": "ac0c4b65",
   "metadata": {},
   "outputs": [
    {
     "name": "stdout",
     "output_type": "stream",
     "text": [
      "7.282291842832814e-07\n"
     ]
    }
   ],
   "source": [
    "import math\n",
    "\n",
    "y = 0.948895\n",
    "n = 80000\n",
    "b = math.log(n,2)\n",
    "\n",
    "a = y*(1/n)*(1/b)\n",
    "\n",
    "print(a)\n"
   ]
  },
  {
   "cell_type": "code",
   "execution_count": null,
   "id": "ff5ce652",
   "metadata": {},
   "outputs": [],
   "source": []
  }
 ],
 "metadata": {
  "kernelspec": {
   "display_name": "Python 3 (ipykernel)",
   "language": "python",
   "name": "python3"
  },
  "language_info": {
   "codemirror_mode": {
    "name": "ipython",
    "version": 3
   },
   "file_extension": ".py",
   "mimetype": "text/x-python",
   "name": "python",
   "nbconvert_exporter": "python",
   "pygments_lexer": "ipython3",
   "version": "3.9.7"
  }
 },
 "nbformat": 4,
 "nbformat_minor": 5
}
