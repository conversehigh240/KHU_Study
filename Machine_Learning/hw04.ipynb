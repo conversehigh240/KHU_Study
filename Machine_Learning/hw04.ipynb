{
 "cells": [
  {
   "cell_type": "markdown",
   "id": "6de81280",
   "metadata": {},
   "source": [
    "# Homework 4"
   ]
  },
  {
   "cell_type": "markdown",
   "id": "3fd6aff6",
   "metadata": {},
   "source": [
    "## Due Date: 5/30/2023, 11:59 pm\n",
    "\n",
    "Homework 4 is out, it is notebook form. You need to fill in the answers in the cells and produce graphs. Everything needed for the assignment is explained in the notebook. \n",
    "\n",
    "**How to submit**\n",
    "\n",
    "You need to send the `.ipynb` file with your answers plus an `.html` file, which will serve as a backup for us in case the `.ipynb` file cannot be opened on my or the TA's computer. \n",
    "\n",
    "The homework solution should be uploaded to e-campus. You can submit it as often as you like before the deadline.\n",
    "\n",
    "**Important**\n",
    "\n",
    "- Please make sure that you provide an answer in each cell and place that contains the **[ your answer ]** tags.\n",
    "- The places that require your code answer are marked with `\"# YOUR CODE\"` comments.\n",
    "- Note that you may use 1 or more line of code for replacing each `\"# YOUR CODE\"` comment."
   ]
  },
  {
   "cell_type": "markdown",
   "id": "60b1c8e2",
   "metadata": {},
   "source": [
    "# Credit Score Classification with Machine Learning"
   ]
  },
  {
   "cell_type": "markdown",
   "id": "746ff8a7",
   "metadata": {},
   "source": [
    "Banks and credit card companies calculate your credit score to determine your creditworthiness. It helps banks and credit card companies immediately to issue loans to customers with good creditworthiness. Today banks and credit card companies use Machine Learning algorithms to classify all the customers in their database based on their credit history. So, if you want to learn how to use Machine Learning for credit score classification, this homework is for you. In this homework, I will take you through the task of credit score classification with Machine Learning using Python."
   ]
  },
  {
   "cell_type": "markdown",
   "id": "5d1a7cae",
   "metadata": {},
   "source": [
    "There are three credit scores that banks and credit card companies use to label their customers:\n",
    "\n",
    "1. Good\n",
    "2. Standard\n",
    "3. Poor"
   ]
  },
  {
   "cell_type": "markdown",
   "id": "19544456",
   "metadata": {},
   "source": [
    "A person with a good credit score will get loans from any bank and financial institution. For the task of Credit Score Classification, we need a labelled dataset with credit scores. You will use an ideal dataset for this task labelled according to the credit history of credit card customers. In this homework, I will take you through the task of credit score classification with Machine Learning using Python."
   ]
  },
  {
   "cell_type": "markdown",
   "id": "030586b9",
   "metadata": {},
   "source": [
    "## Credit Score Classification using Python"
   ]
  },
  {
   "cell_type": "markdown",
   "id": "eb16e8a5",
   "metadata": {},
   "source": [
    "### [2 pts]\n",
    "\n",
    "**1. Let’s start the task of credit score classification by importing the necessary Python libraries and the dataset:**"
   ]
  },
  {
   "cell_type": "code",
   "execution_count": 1,
   "id": "37dd02ff",
   "metadata": {},
   "outputs": [],
   "source": [
    "# YOUR CODE\n",
    "import numpy as np\n",
    "import pandas as pd\n",
    "from sklearn import datasets\n",
    "import matplotlib.pyplot as plt\n",
    "import seaborn as sns\n",
    "%matplotlib inline\n",
    "import warnings\n",
    "warnings.filterwarnings('ignore')"
   ]
  },
  {
   "cell_type": "markdown",
   "id": "b145be9b",
   "metadata": {},
   "source": [
    "### [3 pts]\n",
    "\n",
    "**2. Before moving forward, check if the dataset has any null values or not.**"
   ]
  },
  {
   "cell_type": "code",
   "execution_count": 2,
   "id": "74d0e3b3",
   "metadata": {},
   "outputs": [
    {
     "data": {
      "text/plain": [
       "ID                          0\n",
       "Customer_ID                 0\n",
       "Month                       0\n",
       "Name                        0\n",
       "Age                         0\n",
       "SSN                         0\n",
       "Occupation                  0\n",
       "Annual_Income               0\n",
       "Monthly_Inhand_Salary       0\n",
       "Num_Bank_Accounts           0\n",
       "Num_Credit_Card             0\n",
       "Interest_Rate               0\n",
       "Num_of_Loan                 0\n",
       "Type_of_Loan                0\n",
       "Delay_from_due_date         0\n",
       "Num_of_Delayed_Payment      0\n",
       "Changed_Credit_Limit        0\n",
       "Num_Credit_Inquiries        0\n",
       "Credit_Mix                  0\n",
       "Outstanding_Debt            0\n",
       "Credit_Utilization_Ratio    0\n",
       "Credit_History_Age          0\n",
       "Payment_of_Min_Amount       0\n",
       "Total_EMI_per_month         0\n",
       "Amount_invested_monthly     0\n",
       "Payment_Behaviour           0\n",
       "Monthly_Balance             0\n",
       "Credit_Score                0\n",
       "dtype: int64"
      ]
     },
     "execution_count": 2,
     "metadata": {},
     "output_type": "execute_result"
    }
   ],
   "source": [
    "# YOUR CODE\n",
    "credit = pd.read_csv('data/credit_history.csv')\n",
    "null_val = credit.isnull().sum()\n",
    "null_val"
   ]
  },
  {
   "cell_type": "markdown",
   "id": "45f47c29",
   "metadata": {},
   "source": [
    "### [4 pts]\n",
    "\n",
    "**3. As this dataset is labeled, count how many labels are included in the dataset for each of the credit scores (classes: good, standard, and poor).** \n",
    "\n",
    "*Hint:* Have a look at the `\"Credit_Score\"` column values"
   ]
  },
  {
   "cell_type": "code",
   "execution_count": 3,
   "id": "e8a21079",
   "metadata": {},
   "outputs": [
    {
     "data": {
      "text/plain": [
       "Standard    53174\n",
       "Poor        28998\n",
       "Good        17828\n",
       "Name: Credit_Score, dtype: int64"
      ]
     },
     "execution_count": 3,
     "metadata": {},
     "output_type": "execute_result"
    }
   ],
   "source": [
    "# YOUR CODE\n",
    "label = credit['Credit_Score'].value_counts()\n",
    "label"
   ]
  },
  {
   "cell_type": "markdown",
   "id": "25784d7d",
   "metadata": {},
   "source": [
    "## Data Exploration\n",
    "\n",
    "The dataset has many features that can train a Machine Learning model for credit score classification. Let’s explore all the features one by one."
   ]
  },
  {
   "cell_type": "markdown",
   "id": "c5f60974",
   "metadata": {},
   "source": [
    "### [4 pts]\n",
    "\n",
    "**4. You will start by exploring the Occupation feature to know if the occupation of the person affects credit scores. Visualize the distribution of the `\"Occupation\"` feature for each credit score and then discuss if the occupation of the person affects credit scores or not.** \n",
    "\n",
    "*Hint:* Boxplot or Violinplot would be helpful for visualization and interpretation."
   ]
  },
  {
   "cell_type": "code",
   "execution_count": 4,
   "id": "dee232ad",
   "metadata": {},
   "outputs": [
    {
     "data": {
      "image/png": "[encoded data removed]",
      "text/plain": [
       "<Figure size 1296x288 with 1 Axes>"
      ]
     },
     "metadata": {
      "needs_background": "light"
     },
     "output_type": "display_data"
    }
   ],
   "source": [
    "# YOUR CODE\n",
    "plt.figure(figsize = (18, 4))\n",
    "sns.countplot(data = credit, x = \"Occupation\", hue = \"Credit_Score\", hue_order = ['Good', 'Standard', 'Poor'])\n",
    "plt.xlabel('Occupation')\n",
    "plt.show()\n",
    "\n",
    "# Occupation은 Credit Score에 큰 영향을 끼치지 않음"
   ]
  },
  {
   "cell_type": "markdown",
   "id": "ec1c697f",
   "metadata": {},
   "source": [
    "### [4 pts]\n",
    "\n",
    "**5.Now let’s explore whether the Annual Income of the person impacts your credit scores or not. Visualize the distribution of the `\"Annual_Income\"` feature for each credit score and then discuss if the annual income of the person affects credit scores or not.** "
   ]
  },
  {
   "cell_type": "code",
   "execution_count": 5,
   "id": "527850bb",
   "metadata": {},
   "outputs": [
    {
     "data": {
      "text/plain": [
       "<AxesSubplot:xlabel='Annual_Income', ylabel='Credit_Score'>"
      ]
     },
     "execution_count": 5,
     "metadata": {},
     "output_type": "execute_result"
    },
    {
     "data": {
      "image/png": "[encoded data removed]",
      "text/plain": [
       "<Figure size 1296x432 with 1 Axes>"
      ]
     },
     "metadata": {
      "needs_background": "light"
     },
     "output_type": "display_data"
    }
   ],
   "source": [
    "# YOUR CODE\n",
    "plt.figure(figsize = (18, 6))\n",
    "sns.boxplot(data = credit, x = \"Annual_Income\", y = \"Credit_Score\")\n",
    "\n",
    "# Annual_Income은 영향이 있음"
   ]
  },
  {
   "cell_type": "markdown",
   "id": "cafdcb63",
   "metadata": {},
   "source": [
    "### [4 pts]\n",
    "\n",
    "**6. Now let’s explore whether the monthly in-hand salary impacts credit scores or not. Visualize the distribution of the `\"Monthly_Inhand_Salary\"` feature for each credit score and then discuss if the monthly in-hand salary of the person affects credit scores or not.** "
   ]
  },
  {
   "cell_type": "code",
   "execution_count": 6,
   "id": "aa263f34",
   "metadata": {},
   "outputs": [
    {
     "data": {
      "text/plain": [
       "<AxesSubplot:xlabel='Monthly_Inhand_Salary', ylabel='Credit_Score'>"
      ]
     },
     "execution_count": 6,
     "metadata": {},
     "output_type": "execute_result"
    },
    {
     "data": {
      "image/png": "[encoded data removed]",
      "text/plain": [
       "<Figure size 1296x432 with 1 Axes>"
      ]
     },
     "metadata": {
      "needs_background": "light"
     },
     "output_type": "display_data"
    }
   ],
   "source": [
    "# YOUR CODE\n",
    "plt.figure(figsize = (18, 6))\n",
    "sns.boxplot(data = credit, x = \"Monthly_Inhand_Salary\", y = \"Credit_Score\")\n",
    "\n",
    "# Monthly_Inhand_Salary 는 영향이 있음"
   ]
  },
  {
   "cell_type": "markdown",
   "id": "54ef5abf",
   "metadata": {},
   "source": [
    "### [4 pts]\n",
    "\n",
    "**7. Now let’s see if having more bank accounts impacts credit scores or not. Visualize the distribution of the `\"Num_Bank_Account\"` feature for each credit score and then discuss if having more bank accounts impacts credit scores or not.** "
   ]
  },
  {
   "cell_type": "code",
   "execution_count": 7,
   "id": "684c048c",
   "metadata": {},
   "outputs": [
    {
     "data": {
      "text/plain": [
       "<AxesSubplot:xlabel='Num_Bank_Accounts', ylabel='Credit_Score'>"
      ]
     },
     "execution_count": 7,
     "metadata": {},
     "output_type": "execute_result"
    },
    {
     "data": {
      "image/png": "[encoded data removed]",
      "text/plain": [
       "<Figure size 1296x432 with 1 Axes>"
      ]
     },
     "metadata": {
      "needs_background": "light"
     },
     "output_type": "display_data"
    }
   ],
   "source": [
    "# YOUR CODE\n",
    "plt.figure(figsize = (18, 6))\n",
    "sns.boxplot(data = credit, x = \"Num_Bank_Accounts\", y = \"Credit_Score\")\n",
    "\n",
    "# Num_Bank_Accounts 는 영향이 있음"
   ]
  },
  {
   "cell_type": "markdown",
   "id": "7e1938f9",
   "metadata": {},
   "source": [
    "### [4 pts]\n",
    "\n",
    "**8. Now let’s see the impact on credit scores based on the number of credit cards a person have. Visualize the distribution of the `\"Num_Credit_Card\"` feature for each credit score and then discuss if more bank accounts impacts credit scores or not.** "
   ]
  },
  {
   "cell_type": "code",
   "execution_count": 8,
   "id": "d892e603",
   "metadata": {},
   "outputs": [
    {
     "data": {
      "text/plain": [
       "<AxesSubplot:xlabel='Num_Credit_Card', ylabel='Credit_Score'>"
      ]
     },
     "execution_count": 8,
     "metadata": {},
     "output_type": "execute_result"
    },
    {
     "data": {
      "image/png": "[encoded data removed]",
      "text/plain": [
       "<Figure size 1296x432 with 1 Axes>"
      ]
     },
     "metadata": {
      "needs_background": "light"
     },
     "output_type": "display_data"
    }
   ],
   "source": [
    "# YOUR CODE\n",
    "plt.figure(figsize = (18, 6))\n",
    "sns.boxplot(data = credit, x = \"Num_Credit_Card\", y = \"Credit_Score\")\n",
    "\n",
    "# Num_Credit_Card는 영향이 있음"
   ]
  },
  {
   "cell_type": "markdown",
   "id": "004ea08a",
   "metadata": {},
   "source": [
    "### [4 pts]\n",
    "\n",
    "**9. Now let’s see the impact on credit scores based on how much average interest you pay on loans and EMIs. Visualize the distribution of the `\"Interest_Rate\"` feature for each credit score and then discuss the impact on credit scores based on how much average interest you pay on loans and EMIs.**"
   ]
  },
  {
   "cell_type": "code",
   "execution_count": 9,
   "id": "e8637a73",
   "metadata": {},
   "outputs": [
    {
     "data": {
      "text/plain": [
       "<AxesSubplot:xlabel='Interest_Rate', ylabel='Credit_Score'>"
      ]
     },
     "execution_count": 9,
     "metadata": {},
     "output_type": "execute_result"
    },
    {
     "data": {
      "image/png": "[encoded data removed]",
      "text/plain": [
       "<Figure size 1296x432 with 1 Axes>"
      ]
     },
     "metadata": {
      "needs_background": "light"
     },
     "output_type": "display_data"
    }
   ],
   "source": [
    "# YOUR CODE\n",
    "plt.figure(figsize = (18, 6))\n",
    "sns.boxplot(data = credit, x = \"Interest_Rate\", y = \"Credit_Score\")\n",
    "\n",
    "# Interest_Rate가 낮을 수록 Credit_Score가 좋음"
   ]
  },
  {
   "cell_type": "markdown",
   "id": "79930a90",
   "metadata": {},
   "source": [
    "### [4 pts]\n",
    "\n",
    "**10. Now let’s see how many loans you can take at a time for a good credit score. Visualize the distribution of the `\"Num_of_Loan\"` feature for each credit score and then discuss the impact on credit scores based on how many loans you can take at a time for a good credit score.**"
   ]
  },
  {
   "cell_type": "code",
   "execution_count": 10,
   "id": "aff2cf0d",
   "metadata": {},
   "outputs": [
    {
     "data": {
      "text/plain": [
       "<AxesSubplot:xlabel='Num_of_Loan', ylabel='Credit_Score'>"
      ]
     },
     "execution_count": 10,
     "metadata": {},
     "output_type": "execute_result"
    },
    {
     "data": {
      "image/png": "[encoded data removed]",
      "text/plain": [
       "<Figure size 1296x432 with 1 Axes>"
      ]
     },
     "metadata": {
      "needs_background": "light"
     },
     "output_type": "display_data"
    }
   ],
   "source": [
    "# YOUR CODE\n",
    "plt.figure(figsize = (18, 6))\n",
    "sns.boxplot(data = credit, x = \"Num_of_Loan\", y = \"Credit_Score\")\n",
    "\n",
    "# Num_of_Loan이 많을 수록 Credit_Score 가 Poor 함"
   ]
  },
  {
   "cell_type": "markdown",
   "id": "9ebf4e0d",
   "metadata": {},
   "source": [
    "### [4 pts]\n",
    "\n",
    "**11. Now let’s see if delaying payments on the due date impacts your credit scores or not. Visualize the distribution of the `\"Delay_from_due_date\"` feature for each credit score and then discuss if delaying payments on the due date impacts your credit scores or not.**"
   ]
  },
  {
   "cell_type": "code",
   "execution_count": 11,
   "id": "aefef7e2",
   "metadata": {},
   "outputs": [
    {
     "data": {
      "text/plain": [
       "<AxesSubplot:xlabel='Delay_from_due_date', ylabel='Credit_Score'>"
      ]
     },
     "execution_count": 11,
     "metadata": {},
     "output_type": "execute_result"
    },
    {
     "data": {
      "image/png": "[encoded data removed]",
      "text/plain": [
       "<Figure size 1296x432 with 1 Axes>"
      ]
     },
     "metadata": {
      "needs_background": "light"
     },
     "output_type": "display_data"
    }
   ],
   "source": [
    "# YOUR CODE\n",
    "plt.figure(figsize = (18, 6))\n",
    "sns.boxplot(data = credit, x = \"Delay_from_due_date\", y = \"Credit_Score\")\n",
    "\n",
    "# Delay_from_due_date가 높을 수록 Credit_Score가 Poor 함"
   ]
  },
  {
   "cell_type": "markdown",
   "id": "67a46492",
   "metadata": {},
   "source": [
    "### [4 pts]\n",
    "\n",
    "**12. Now let’s have a look at if frequently delaying payments will impact credit scores or not. Visualize the distribution of the `\"Num_of_Delayed_Payment\"` feature for each credit score and then discuss if frequently delaying payments will impact credit scores or not.**"
   ]
  },
  {
   "cell_type": "code",
   "execution_count": 12,
   "id": "fd11d45e",
   "metadata": {},
   "outputs": [
    {
     "data": {
      "text/plain": [
       "<AxesSubplot:xlabel='Num_of_Delayed_Payment', ylabel='Credit_Score'>"
      ]
     },
     "execution_count": 12,
     "metadata": {},
     "output_type": "execute_result"
    },
    {
     "data": {
      "image/png": "[encoded data removed]",
      "text/plain": [
       "<Figure size 1296x432 with 1 Axes>"
      ]
     },
     "metadata": {
      "needs_background": "light"
     },
     "output_type": "display_data"
    }
   ],
   "source": [
    "# YOUR CODE\n",
    "plt.figure(figsize = (18, 6))\n",
    "sns.boxplot(data = credit, x = \"Num_of_Delayed_Payment\", y = \"Credit_Score\")\n",
    "\n",
    "# Num_of_Delayed_Payment 가 낮을 수록 Credit_Score가 Good 함"
   ]
  },
  {
   "cell_type": "markdown",
   "id": "355173c4",
   "metadata": {},
   "source": [
    "### [4 pts]\n",
    "\n",
    "**13. Now let’s see if having more debt will affect credit scores or not. Visualize the distribution of the `\"Outstanding_Debt\"` feature for each credit score and then discuss if having more debt will affect credit scores or not.**"
   ]
  },
  {
   "cell_type": "code",
   "execution_count": 13,
   "id": "bec72976",
   "metadata": {},
   "outputs": [
    {
     "data": {
      "text/plain": [
       "<AxesSubplot:xlabel='Outstanding_Debt', ylabel='Credit_Score'>"
      ]
     },
     "execution_count": 13,
     "metadata": {},
     "output_type": "execute_result"
    },
    {
     "data": {
      "image/png": "[encoded data removed]",
      "text/plain": [
       "<Figure size 1296x432 with 1 Axes>"
      ]
     },
     "metadata": {
      "needs_background": "light"
     },
     "output_type": "display_data"
    }
   ],
   "source": [
    "# YOUR CODE\n",
    "plt.figure(figsize = (18, 6))\n",
    "sns.boxplot(data = credit, x = \"Outstanding_Debt\", y = \"Credit_Score\")\n",
    "\n",
    "# Outstanding_Debt 가 높을수록 Credit_Score 가 Poor함"
   ]
  },
  {
   "cell_type": "markdown",
   "id": "2174254c",
   "metadata": {},
   "source": [
    "### [4 pts]\n",
    "\n",
    "**14. Now let’s see if having a high credit utilization ratio will affect credit scores or not. Visualize the distribution of the `\"Credit_Utilization_Ratio\"` feature for each credit score and then discuss if having a high credit utilization ratio will affect credit scores or not.**\n",
    "\n",
    "*Credit utilization ratio* means your total debt divided by your total available credit."
   ]
  },
  {
   "cell_type": "code",
   "execution_count": 14,
   "id": "94cb3f30",
   "metadata": {},
   "outputs": [
    {
     "data": {
      "text/plain": [
       "<AxesSubplot:xlabel='Credit_Utilization_Ratio', ylabel='Credit_Score'>"
      ]
     },
     "execution_count": 14,
     "metadata": {},
     "output_type": "execute_result"
    },
    {
     "data": {
      "image/png": "[encoded data removed]",
      "text/plain": [
       "<Figure size 1296x432 with 1 Axes>"
      ]
     },
     "metadata": {
      "needs_background": "light"
     },
     "output_type": "display_data"
    }
   ],
   "source": [
    "# YOUR CODE\n",
    "plt.figure(figsize = (18, 6))\n",
    "sns.boxplot(data = credit, x = \"Credit_Utilization_Ratio\", y = \"Credit_Score\")\n",
    "\n",
    "# Credit_Utilization_Ratio 는 Credit_Score에 영향을 거의 주지 않음"
   ]
  },
  {
   "cell_type": "markdown",
   "id": "b6ee4655",
   "metadata": {},
   "source": [
    "### [4 pts]\n",
    "\n",
    "**15. Now let’s see how the credit history age of a person affects credit scores. Visualize the distribution of the `\"Credit_History_Age\"` feature for each credit score and then discuss the impact on credit scores based on how the credit history age of a person affects credit scores.**"
   ]
  },
  {
   "cell_type": "code",
   "execution_count": 15,
   "id": "bf45e15e",
   "metadata": {},
   "outputs": [
    {
     "data": {
      "text/plain": [
       "<AxesSubplot:xlabel='Credit_History_Age', ylabel='Credit_Score'>"
      ]
     },
     "execution_count": 15,
     "metadata": {},
     "output_type": "execute_result"
    },
    {
     "data": {
      "image/png": "[encoded data removed]",
      "text/plain": [
       "<Figure size 1296x432 with 1 Axes>"
      ]
     },
     "metadata": {
      "needs_background": "light"
     },
     "output_type": "display_data"
    }
   ],
   "source": [
    "# YOUR CODE\n",
    "plt.figure(figsize = (18, 6))\n",
    "sns.boxplot(data = credit, x = \"Credit_History_Age\", y = \"Credit_Score\")\n",
    "\n",
    "# Credit_History_Age가 높을 수록 Credit_Score 가 Good "
   ]
  },
  {
   "cell_type": "markdown",
   "id": "129006b7",
   "metadata": {},
   "source": [
    "### [4 pts]\n",
    "\n",
    "**16. Now let’s see how many EMIs you can have in a month for a good credit score. Visualize the distribution of the `\"Total_EMI_per_month\"` feature for each credit score and then discuss the impact on credit scores based on how many EMIs you can have in a month for a good credit score.**"
   ]
  },
  {
   "cell_type": "code",
   "execution_count": 16,
   "id": "7f2d10eb",
   "metadata": {},
   "outputs": [
    {
     "data": {
      "text/plain": [
       "<AxesSubplot:xlabel='Total_EMI_per_month', ylabel='Credit_Score'>"
      ]
     },
     "execution_count": 16,
     "metadata": {},
     "output_type": "execute_result"
    },
    {
     "data": {
      "image/png": "[encoded data removed]",
      "text/plain": [
       "<Figure size 1296x432 with 1 Axes>"
      ]
     },
     "metadata": {
      "needs_background": "light"
     },
     "output_type": "display_data"
    }
   ],
   "source": [
    "# YOUR CODE\n",
    "plt.figure(figsize = (18, 6))\n",
    "sns.boxplot(data = credit, x = \"Total_EMI_per_month\", y = \"Credit_Score\")\n",
    "\n",
    "# Total_EMI_per_month는 Credit_Score에 거의 영향을 주지 않음"
   ]
  },
  {
   "cell_type": "markdown",
   "id": "cb2206b2",
   "metadata": {},
   "source": [
    "### [4 pts]\n",
    "\n",
    "**17. Now let’s see if your monthly investments affect your credit scores or not. Visualize the distribution of the `\"Amount_invested_monthly\"` feature for each credit score and then discuss if your monthly investments affect your credit scores or not.**"
   ]
  },
  {
   "cell_type": "code",
   "execution_count": 17,
   "id": "af561fa5",
   "metadata": {},
   "outputs": [
    {
     "data": {
      "text/plain": [
       "<AxesSubplot:xlabel='Amount_invested_monthly', ylabel='Credit_Score'>"
      ]
     },
     "execution_count": 17,
     "metadata": {},
     "output_type": "execute_result"
    },
    {
     "data": {
      "image/png": "[encoded data removed]",
      "text/plain": [
       "<Figure size 1296x432 with 1 Axes>"
      ]
     },
     "metadata": {
      "needs_background": "light"
     },
     "output_type": "display_data"
    }
   ],
   "source": [
    "# YOUR CODE\n",
    "plt.figure(figsize = (18, 6))\n",
    "sns.boxplot(data = credit, x = \"Amount_invested_monthly\", y = \"Credit_Score\")\n",
    "\n",
    "# Amount_invested_monthly 는 Credit_Score에 큰 영향이 있지는 않음"
   ]
  },
  {
   "cell_type": "markdown",
   "id": "6c64d8c2",
   "metadata": {},
   "source": [
    "### [4 pts]\n",
    "\n",
    "**18. Now let’s see if having a low amount at the end of the month affects credit scores or not. Visualize the distribution of the `\"Monthly_Balance\"` feature for each credit score and then discuss if having a low amount at the end of the month affects credit scores or not.**"
   ]
  },
  {
   "cell_type": "code",
   "execution_count": 18,
   "id": "85791869",
   "metadata": {},
   "outputs": [
    {
     "data": {
      "text/plain": [
       "<AxesSubplot:xlabel='Monthly_Balance', ylabel='Credit_Score'>"
      ]
     },
     "execution_count": 18,
     "metadata": {},
     "output_type": "execute_result"
    },
    {
     "data": {
      "image/png": "[encoded data removed]",
      "text/plain": [
       "<Figure size 1296x432 with 1 Axes>"
      ]
     },
     "metadata": {
      "needs_background": "light"
     },
     "output_type": "display_data"
    }
   ],
   "source": [
    "# YOUR CODE\n",
    "plt.figure(figsize = (18, 6))\n",
    "sns.boxplot(data = credit, x = \"Monthly_Balance\", y = \"Credit_Score\")\n",
    "\n",
    "# Monthly_Balance 는 Credit_Score에 큰 영향이 있지 않음"
   ]
  },
  {
   "cell_type": "markdown",
   "id": "c6f44091",
   "metadata": {},
   "source": [
    "## Credit Score Classification Model"
   ]
  },
  {
   "cell_type": "markdown",
   "id": "61917e5b",
   "metadata": {},
   "source": [
    "One more important feature (Credit Mix, `\"Credit_Mix\"`) in the dataset is valuable for determining credit scores. The credit mix feature tells about the types of credits and loans you have taken."
   ]
  },
  {
   "cell_type": "markdown",
   "id": "bc195792",
   "metadata": {},
   "source": [
    "### [4 pts]\n",
    "\n",
    "**19. As the `\"Credit_Mix\"` column is categorical, you need to transform it into a numerical feature so that we can use it to train a Machine Learning model for the task of credit score classification. Thus, transform each of the categorical variables (standard, good, and bad) to a numerical feature (standard = 1, good = 2, bad = 0).**"
   ]
  },
  {
   "cell_type": "code",
   "execution_count": 19,
   "id": "12129492",
   "metadata": {},
   "outputs": [
    {
     "data": {
      "text/html": [
       "<div>\n",
       "<style scoped>\n",
       "    .dataframe tbody tr th:only-of-type {\n",
       "        vertical-align: middle;\n",
       "    }\n",
       "\n",
       "    .dataframe tbody tr th {\n",
       "        vertical-align: top;\n",
       "    }\n",
       "\n",
       "    .dataframe thead th {\n",
       "        text-align: right;\n",
       "    }\n",
       "</style>\n",
       "<table border=\"1\" class=\"dataframe\">\n",
       "  <thead>\n",
       "    <tr style=\"text-align: right;\">\n",
       "      <th></th>\n",
       "      <th>ID</th>\n",
       "      <th>Customer_ID</th>\n",
       "      <th>Month</th>\n",
       "      <th>Name</th>\n",
       "      <th>Age</th>\n",
       "      <th>SSN</th>\n",
       "      <th>Occupation</th>\n",
       "      <th>Annual_Income</th>\n",
       "      <th>Monthly_Inhand_Salary</th>\n",
       "      <th>Num_Bank_Accounts</th>\n",
       "      <th>...</th>\n",
       "      <th>Outstanding_Debt</th>\n",
       "      <th>Credit_Utilization_Ratio</th>\n",
       "      <th>Credit_History_Age</th>\n",
       "      <th>Payment_of_Min_Amount</th>\n",
       "      <th>Total_EMI_per_month</th>\n",
       "      <th>Amount_invested_monthly</th>\n",
       "      <th>Payment_Behaviour</th>\n",
       "      <th>Monthly_Balance</th>\n",
       "      <th>Credit_Score</th>\n",
       "      <th>Credit_Mix_Label</th>\n",
       "    </tr>\n",
       "  </thead>\n",
       "  <tbody>\n",
       "    <tr>\n",
       "      <th>0</th>\n",
       "      <td>5634</td>\n",
       "      <td>3392</td>\n",
       "      <td>1</td>\n",
       "      <td>Aaron Maashoh</td>\n",
       "      <td>23.0</td>\n",
       "      <td>821000265.0</td>\n",
       "      <td>Scientist</td>\n",
       "      <td>19114.12</td>\n",
       "      <td>1824.843333</td>\n",
       "      <td>3.0</td>\n",
       "      <td>...</td>\n",
       "      <td>809.98</td>\n",
       "      <td>26.822620</td>\n",
       "      <td>265.0</td>\n",
       "      <td>No</td>\n",
       "      <td>49.574949</td>\n",
       "      <td>21.465380</td>\n",
       "      <td>High_spent_Small_value_payments</td>\n",
       "      <td>312.494089</td>\n",
       "      <td>Good</td>\n",
       "      <td>2</td>\n",
       "    </tr>\n",
       "    <tr>\n",
       "      <th>1</th>\n",
       "      <td>5635</td>\n",
       "      <td>3392</td>\n",
       "      <td>2</td>\n",
       "      <td>Aaron Maashoh</td>\n",
       "      <td>23.0</td>\n",
       "      <td>821000265.0</td>\n",
       "      <td>Scientist</td>\n",
       "      <td>19114.12</td>\n",
       "      <td>1824.843333</td>\n",
       "      <td>3.0</td>\n",
       "      <td>...</td>\n",
       "      <td>809.98</td>\n",
       "      <td>31.944960</td>\n",
       "      <td>266.0</td>\n",
       "      <td>No</td>\n",
       "      <td>49.574949</td>\n",
       "      <td>21.465380</td>\n",
       "      <td>Low_spent_Large_value_payments</td>\n",
       "      <td>284.629162</td>\n",
       "      <td>Good</td>\n",
       "      <td>2</td>\n",
       "    </tr>\n",
       "    <tr>\n",
       "      <th>2</th>\n",
       "      <td>5636</td>\n",
       "      <td>3392</td>\n",
       "      <td>3</td>\n",
       "      <td>Aaron Maashoh</td>\n",
       "      <td>23.0</td>\n",
       "      <td>821000265.0</td>\n",
       "      <td>Scientist</td>\n",
       "      <td>19114.12</td>\n",
       "      <td>1824.843333</td>\n",
       "      <td>3.0</td>\n",
       "      <td>...</td>\n",
       "      <td>809.98</td>\n",
       "      <td>28.609352</td>\n",
       "      <td>267.0</td>\n",
       "      <td>No</td>\n",
       "      <td>49.574949</td>\n",
       "      <td>21.465380</td>\n",
       "      <td>Low_spent_Medium_value_payments</td>\n",
       "      <td>331.209863</td>\n",
       "      <td>Good</td>\n",
       "      <td>2</td>\n",
       "    </tr>\n",
       "    <tr>\n",
       "      <th>3</th>\n",
       "      <td>5637</td>\n",
       "      <td>3392</td>\n",
       "      <td>4</td>\n",
       "      <td>Aaron Maashoh</td>\n",
       "      <td>23.0</td>\n",
       "      <td>821000265.0</td>\n",
       "      <td>Scientist</td>\n",
       "      <td>19114.12</td>\n",
       "      <td>1824.843333</td>\n",
       "      <td>3.0</td>\n",
       "      <td>...</td>\n",
       "      <td>809.98</td>\n",
       "      <td>31.377862</td>\n",
       "      <td>268.0</td>\n",
       "      <td>No</td>\n",
       "      <td>49.574949</td>\n",
       "      <td>21.465380</td>\n",
       "      <td>Low_spent_Small_value_payments</td>\n",
       "      <td>223.451310</td>\n",
       "      <td>Good</td>\n",
       "      <td>2</td>\n",
       "    </tr>\n",
       "    <tr>\n",
       "      <th>4</th>\n",
       "      <td>5638</td>\n",
       "      <td>3392</td>\n",
       "      <td>5</td>\n",
       "      <td>Aaron Maashoh</td>\n",
       "      <td>23.0</td>\n",
       "      <td>821000265.0</td>\n",
       "      <td>Scientist</td>\n",
       "      <td>19114.12</td>\n",
       "      <td>1824.843333</td>\n",
       "      <td>3.0</td>\n",
       "      <td>...</td>\n",
       "      <td>809.98</td>\n",
       "      <td>24.797347</td>\n",
       "      <td>269.0</td>\n",
       "      <td>No</td>\n",
       "      <td>49.574949</td>\n",
       "      <td>21.465380</td>\n",
       "      <td>High_spent_Medium_value_payments</td>\n",
       "      <td>341.489231</td>\n",
       "      <td>Good</td>\n",
       "      <td>2</td>\n",
       "    </tr>\n",
       "    <tr>\n",
       "      <th>...</th>\n",
       "      <td>...</td>\n",
       "      <td>...</td>\n",
       "      <td>...</td>\n",
       "      <td>...</td>\n",
       "      <td>...</td>\n",
       "      <td>...</td>\n",
       "      <td>...</td>\n",
       "      <td>...</td>\n",
       "      <td>...</td>\n",
       "      <td>...</td>\n",
       "      <td>...</td>\n",
       "      <td>...</td>\n",
       "      <td>...</td>\n",
       "      <td>...</td>\n",
       "      <td>...</td>\n",
       "      <td>...</td>\n",
       "      <td>...</td>\n",
       "      <td>...</td>\n",
       "      <td>...</td>\n",
       "      <td>...</td>\n",
       "      <td>...</td>\n",
       "    </tr>\n",
       "    <tr>\n",
       "      <th>99995</th>\n",
       "      <td>155625</td>\n",
       "      <td>37932</td>\n",
       "      <td>4</td>\n",
       "      <td>Nicks</td>\n",
       "      <td>25.0</td>\n",
       "      <td>78735990.0</td>\n",
       "      <td>Mechanic</td>\n",
       "      <td>39628.99</td>\n",
       "      <td>3359.415833</td>\n",
       "      <td>4.0</td>\n",
       "      <td>...</td>\n",
       "      <td>502.38</td>\n",
       "      <td>34.663572</td>\n",
       "      <td>378.0</td>\n",
       "      <td>No</td>\n",
       "      <td>35.104023</td>\n",
       "      <td>24.028477</td>\n",
       "      <td>High_spent_Large_value_payments</td>\n",
       "      <td>479.866228</td>\n",
       "      <td>Poor</td>\n",
       "      <td>2</td>\n",
       "    </tr>\n",
       "    <tr>\n",
       "      <th>99996</th>\n",
       "      <td>155626</td>\n",
       "      <td>37932</td>\n",
       "      <td>5</td>\n",
       "      <td>Nicks</td>\n",
       "      <td>25.0</td>\n",
       "      <td>78735990.0</td>\n",
       "      <td>Mechanic</td>\n",
       "      <td>39628.99</td>\n",
       "      <td>3359.415833</td>\n",
       "      <td>4.0</td>\n",
       "      <td>...</td>\n",
       "      <td>502.38</td>\n",
       "      <td>40.565631</td>\n",
       "      <td>379.0</td>\n",
       "      <td>No</td>\n",
       "      <td>35.104023</td>\n",
       "      <td>24.028477</td>\n",
       "      <td>High_spent_Medium_value_payments</td>\n",
       "      <td>496.651610</td>\n",
       "      <td>Poor</td>\n",
       "      <td>2</td>\n",
       "    </tr>\n",
       "    <tr>\n",
       "      <th>99997</th>\n",
       "      <td>155627</td>\n",
       "      <td>37932</td>\n",
       "      <td>6</td>\n",
       "      <td>Nicks</td>\n",
       "      <td>25.0</td>\n",
       "      <td>78735990.0</td>\n",
       "      <td>Mechanic</td>\n",
       "      <td>39628.99</td>\n",
       "      <td>3359.415833</td>\n",
       "      <td>4.0</td>\n",
       "      <td>...</td>\n",
       "      <td>502.38</td>\n",
       "      <td>41.255522</td>\n",
       "      <td>380.0</td>\n",
       "      <td>No</td>\n",
       "      <td>35.104023</td>\n",
       "      <td>24.028477</td>\n",
       "      <td>High_spent_Large_value_payments</td>\n",
       "      <td>516.809083</td>\n",
       "      <td>Poor</td>\n",
       "      <td>2</td>\n",
       "    </tr>\n",
       "    <tr>\n",
       "      <th>99998</th>\n",
       "      <td>155628</td>\n",
       "      <td>37932</td>\n",
       "      <td>7</td>\n",
       "      <td>Nicks</td>\n",
       "      <td>25.0</td>\n",
       "      <td>78735990.0</td>\n",
       "      <td>Mechanic</td>\n",
       "      <td>39628.99</td>\n",
       "      <td>3359.415833</td>\n",
       "      <td>4.0</td>\n",
       "      <td>...</td>\n",
       "      <td>502.38</td>\n",
       "      <td>33.638208</td>\n",
       "      <td>381.0</td>\n",
       "      <td>No</td>\n",
       "      <td>35.104023</td>\n",
       "      <td>24.028477</td>\n",
       "      <td>Low_spent_Large_value_payments</td>\n",
       "      <td>319.164979</td>\n",
       "      <td>Standard</td>\n",
       "      <td>2</td>\n",
       "    </tr>\n",
       "    <tr>\n",
       "      <th>99999</th>\n",
       "      <td>155629</td>\n",
       "      <td>37932</td>\n",
       "      <td>8</td>\n",
       "      <td>Nicks</td>\n",
       "      <td>25.0</td>\n",
       "      <td>78735990.0</td>\n",
       "      <td>Mechanic</td>\n",
       "      <td>39628.99</td>\n",
       "      <td>3359.415833</td>\n",
       "      <td>4.0</td>\n",
       "      <td>...</td>\n",
       "      <td>502.38</td>\n",
       "      <td>34.192463</td>\n",
       "      <td>382.0</td>\n",
       "      <td>No</td>\n",
       "      <td>35.104023</td>\n",
       "      <td>24.028477</td>\n",
       "      <td>High_spent_Medium_value_payments</td>\n",
       "      <td>393.673696</td>\n",
       "      <td>Poor</td>\n",
       "      <td>2</td>\n",
       "    </tr>\n",
       "  </tbody>\n",
       "</table>\n",
       "<p>100000 rows × 29 columns</p>\n",
       "</div>"
      ],
      "text/plain": [
       "           ID  Customer_ID  Month           Name   Age          SSN  \\\n",
       "0        5634         3392      1  Aaron Maashoh  23.0  821000265.0   \n",
       "1        5635         3392      2  Aaron Maashoh  23.0  821000265.0   \n",
       "2        5636         3392      3  Aaron Maashoh  23.0  821000265.0   \n",
       "3        5637         3392      4  Aaron Maashoh  23.0  821000265.0   \n",
       "4        5638         3392      5  Aaron Maashoh  23.0  821000265.0   \n",
       "...       ...          ...    ...            ...   ...          ...   \n",
       "99995  155625        37932      4          Nicks  25.0   78735990.0   \n",
       "99996  155626        37932      5          Nicks  25.0   78735990.0   \n",
       "99997  155627        37932      6          Nicks  25.0   78735990.0   \n",
       "99998  155628        37932      7          Nicks  25.0   78735990.0   \n",
       "99999  155629        37932      8          Nicks  25.0   78735990.0   \n",
       "\n",
       "      Occupation  Annual_Income  Monthly_Inhand_Salary  Num_Bank_Accounts  \\\n",
       "0      Scientist       19114.12            1824.843333                3.0   \n",
       "1      Scientist       19114.12            1824.843333                3.0   \n",
       "2      Scientist       19114.12            1824.843333                3.0   \n",
       "3      Scientist       19114.12            1824.843333                3.0   \n",
       "4      Scientist       19114.12            1824.843333                3.0   \n",
       "...          ...            ...                    ...                ...   \n",
       "99995   Mechanic       39628.99            3359.415833                4.0   \n",
       "99996   Mechanic       39628.99            3359.415833                4.0   \n",
       "99997   Mechanic       39628.99            3359.415833                4.0   \n",
       "99998   Mechanic       39628.99            3359.415833                4.0   \n",
       "99999   Mechanic       39628.99            3359.415833                4.0   \n",
       "\n",
       "       ...  Outstanding_Debt  Credit_Utilization_Ratio  Credit_History_Age  \\\n",
       "0      ...            809.98                 26.822620               265.0   \n",
       "1      ...            809.98                 31.944960               266.0   \n",
       "2      ...            809.98                 28.609352               267.0   \n",
       "3      ...            809.98                 31.377862               268.0   \n",
       "4      ...            809.98                 24.797347               269.0   \n",
       "...    ...               ...                       ...                 ...   \n",
       "99995  ...            502.38                 34.663572               378.0   \n",
       "99996  ...            502.38                 40.565631               379.0   \n",
       "99997  ...            502.38                 41.255522               380.0   \n",
       "99998  ...            502.38                 33.638208               381.0   \n",
       "99999  ...            502.38                 34.192463               382.0   \n",
       "\n",
       "      Payment_of_Min_Amount  Total_EMI_per_month  Amount_invested_monthly  \\\n",
       "0                        No            49.574949                21.465380   \n",
       "1                        No            49.574949                21.465380   \n",
       "2                        No            49.574949                21.465380   \n",
       "3                        No            49.574949                21.465380   \n",
       "4                        No            49.574949                21.465380   \n",
       "...                     ...                  ...                      ...   \n",
       "99995                    No            35.104023                24.028477   \n",
       "99996                    No            35.104023                24.028477   \n",
       "99997                    No            35.104023                24.028477   \n",
       "99998                    No            35.104023                24.028477   \n",
       "99999                    No            35.104023                24.028477   \n",
       "\n",
       "                      Payment_Behaviour  Monthly_Balance Credit_Score  \\\n",
       "0       High_spent_Small_value_payments       312.494089         Good   \n",
       "1        Low_spent_Large_value_payments       284.629162         Good   \n",
       "2       Low_spent_Medium_value_payments       331.209863         Good   \n",
       "3        Low_spent_Small_value_payments       223.451310         Good   \n",
       "4      High_spent_Medium_value_payments       341.489231         Good   \n",
       "...                                 ...              ...          ...   \n",
       "99995   High_spent_Large_value_payments       479.866228         Poor   \n",
       "99996  High_spent_Medium_value_payments       496.651610         Poor   \n",
       "99997   High_spent_Large_value_payments       516.809083         Poor   \n",
       "99998    Low_spent_Large_value_payments       319.164979     Standard   \n",
       "99999  High_spent_Medium_value_payments       393.673696         Poor   \n",
       "\n",
       "       Credit_Mix_Label  \n",
       "0                     2  \n",
       "1                     2  \n",
       "2                     2  \n",
       "3                     2  \n",
       "4                     2  \n",
       "...                 ...  \n",
       "99995                 2  \n",
       "99996                 2  \n",
       "99997                 2  \n",
       "99998                 2  \n",
       "99999                 2  \n",
       "\n",
       "[100000 rows x 29 columns]"
      ]
     },
     "execution_count": 19,
     "metadata": {},
     "output_type": "execute_result"
    }
   ],
   "source": [
    "# YOUR CODE\n",
    "label_dict = {'Good' : 2,\n",
    "             'Standard' : 1,\n",
    "             'Bad' : 0}\n",
    "credit['Credit_Mix_Label'] = credit['Credit_Mix'].map(label_dict)\n",
    "credit"
   ]
  },
  {
   "cell_type": "markdown",
   "id": "abd40696",
   "metadata": {},
   "source": [
    "### [4 pts]\n",
    "\n",
    "**20. You need to split the data into features and labels by selecting the features we found important for our model. You need to select the important features (based on the data exploration above) and then create the feature (or design) matrix that contains the important features you selected.** "
   ]
  },
  {
   "cell_type": "code",
   "execution_count": 20,
   "id": "3939e711",
   "metadata": {},
   "outputs": [],
   "source": [
    "# YOUR CODE\n",
    "important_features = ['Annual_Income', 'Num_Bank_Accounts', 'Num_Credit_Card', 'Interest_Rate', 'Num_of_Loan', 'Delay_from_due_date', 'Num_of_Delayed_Payment', 'Credit_History_Age']\n",
    "X = credit[important_features].values\n",
    "y = credit['Credit_Mix_Label'].values"
   ]
  },
  {
   "cell_type": "markdown",
   "id": "913fee38",
   "metadata": {},
   "source": [
    "### [4 pts]\n",
    "\n",
    "**21. Now, split the data into training (80%) and test sets (20%) and proceed further by training a credit score classification model.**"
   ]
  },
  {
   "cell_type": "code",
   "execution_count": 21,
   "id": "19c9e0a6",
   "metadata": {},
   "outputs": [],
   "source": [
    "# YOUR CODE\n",
    "from sklearn.model_selection import train_test_split\n",
    "\n",
    "X_train, X_test, y_train, y_test = train_test_split(X, y, test_size = 0.2, random_state = 123, shuffle = True)"
   ]
  },
  {
   "cell_type": "markdown",
   "id": "ccdb3b5a",
   "metadata": {},
   "source": [
    "### [15 pts]\n",
    "\n",
    "**22. Now, let’s make predictions using Logistic Regression, Linear Support Vector Machine, and Random Forests according to the features we used to train the model. Evaluate all three models (Logistic Regression, Linear Support Vector Machine, and Random Forests) on the test set. How different are the results?**"
   ]
  },
  {
   "cell_type": "code",
   "execution_count": 22,
   "id": "459736b7",
   "metadata": {},
   "outputs": [
    {
     "data": {
      "text/plain": [
       "0.8059"
      ]
     },
     "execution_count": 22,
     "metadata": {},
     "output_type": "execute_result"
    }
   ],
   "source": [
    "# YOUR CODE for Logistic Regression\n",
    "from sklearn.linear_model import LogisticRegression\n",
    "from sklearn.metrics import accuracy_score\n",
    "\n",
    "logreg = LogisticRegression()\n",
    "logreg.fit(X_train, y_train)\n",
    "y_pred_logreg = logreg.predict(X_test)\n",
    "accuracy_score(y_test, y_pred_logreg)"
   ]
  },
  {
   "cell_type": "code",
   "execution_count": 23,
   "id": "f34e992a",
   "metadata": {},
   "outputs": [
    {
     "data": {
      "text/plain": [
       "0.55345"
      ]
     },
     "execution_count": 23,
     "metadata": {},
     "output_type": "execute_result"
    }
   ],
   "source": [
    "# YOUR CODE for Linear Support Vector Machine\n",
    "from sklearn.svm import LinearSVC\n",
    "\n",
    "svm = LinearSVC()\n",
    "svm.fit(X_train, y_train)\n",
    "y_pred_svm = svm.predict(X_test)\n",
    "accuracy_score(y_test, y_pred_svm)"
   ]
  },
  {
   "cell_type": "code",
   "execution_count": 24,
   "id": "5d2ab53f",
   "metadata": {},
   "outputs": [
    {
     "data": {
      "text/plain": [
       "0.99115"
      ]
     },
     "execution_count": 24,
     "metadata": {},
     "output_type": "execute_result"
    }
   ],
   "source": [
    "# YOUR CODE for Random Forests\n",
    "from sklearn.ensemble import RandomForestClassifier\n",
    "\n",
    "rf = RandomForestClassifier()\n",
    "rf.fit(X_train, y_train)\n",
    "y_pred_rf = rf.predict(X_test)\n",
    "accuracy_score(y_test, y_pred_rf)"
   ]
  },
  {
   "cell_type": "markdown",
   "id": "6ec8cf40",
   "metadata": {},
   "source": [
    "### [4 pts]\n",
    "\n",
    "**23. Tune the parameters using GridSearchCV. Do the results improve? Evaluate only the Linear Support Vector Machine model on the test set. Discuss your results**"
   ]
  },
  {
   "cell_type": "code",
   "execution_count": 26,
   "id": "3222a15d",
   "metadata": {},
   "outputs": [
    {
     "name": "stdout",
     "output_type": "stream",
     "text": [
      "Best parameters for SVM :  {'C': 10}\n",
      "Best Score for SVM :  0.6159250000000001\n",
      "Best Linear SVM Accuracy :  0.5372\n"
     ]
    }
   ],
   "source": [
    "# YOUR CODE\n",
    "from sklearn.model_selection import GridSearchCV\n",
    "\n",
    "param_grid = {'C' : [0.1, 1, 10]}\n",
    "\n",
    "grid_search_svm = GridSearchCV(LinearSVC(), param_grid, cv = 5)\n",
    "grid_search_svm.fit(X_train, y_train)\n",
    "\n",
    "best_params_svm = grid_search_svm.best_params_\n",
    "best_score_svm = grid_search_svm.best_score_\n",
    "best_model_svm = grid_search_svm.best_estimator_\n",
    "y_pred_best_svm = best_model_svm.predict(X_test)\n",
    "accuracy_best_svm = accuracy_score(y_test, y_pred_best_svm)\n",
    "\n",
    "print(\"Best parameters for SVM : \", best_params_svm)\n",
    "print(\"Best Score for SVM : \", best_score_svm)\n",
    "print(\"Best Linear SVM Accuracy : \", accuracy_best_svm)"
   ]
  },
  {
   "cell_type": "markdown",
   "id": "03aaf9f1",
   "metadata": {},
   "source": [
    "## Summary\n",
    "\n",
    "Classifying customers based on their credit scores helps banks and credit card companies immediately to issue loans to customers with good creditworthiness. A person with a good credit score will get loans from any bank and financial institution. I hope you liked this homework on Credit Score Classification with Machine Learning using Python."
   ]
  }
 ],
 "metadata": {
  "kernelspec": {
   "display_name": "Python 3 (ipykernel)",
   "language": "python",
   "name": "python3"
  },
  "language_info": {
   "codemirror_mode": {
    "name": "ipython",
    "version": 3
   },
   "file_extension": ".py",
   "mimetype": "text/x-python",
   "name": "python",
   "nbconvert_exporter": "python",
   "pygments_lexer": "ipython3",
   "version": "3.9.7"
  }
 },
 "nbformat": 4,
 "nbformat_minor": 5
}
